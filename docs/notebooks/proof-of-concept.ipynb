{
 "cells": [
  {
   "cell_type": "markdown",
   "id": "45032f0e",
   "metadata": {},
   "source": [
    "PROOF OF CONCEPT - EXPLORE DATA \n",
    "\n"
   ]
  }
 ],
 "metadata": {
  "language_info": {
   "name": "python"
  }
 },
 "nbformat": 4,
 "nbformat_minor": 5
}
